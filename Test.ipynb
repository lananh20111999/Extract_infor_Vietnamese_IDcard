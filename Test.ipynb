{
 "cells": [
  {
   "cell_type": "code",
   "execution_count": 2,
   "metadata": {},
   "outputs": [
    {
     "name": "stderr",
     "output_type": "stream",
     "text": [
      "C:\\Users\\84765\\AppData\\Roaming\\Python\\Python310\\site-packages\\tqdm\\auto.py:22: TqdmWarning: IProgress not found. Please update jupyter and ipywidgets. See https://ipywidgets.readthedocs.io/en/stable/user_install.html\n",
      "  from .autonotebook import tqdm as notebook_tqdm\n"
     ]
    }
   ],
   "source": [
    "import torch\n",
    "import cv2\n",
    "from cropper.cropper import cropper\n",
    "from detector.detector import detectIDcard\n",
    "from matplotlib import pyplot as plt"
   ]
  },
  {
   "cell_type": "code",
   "execution_count": 7,
   "metadata": {},
   "outputs": [
    {
     "name": "stderr",
     "output_type": "stream",
     "text": [
      "Using cache found in C:\\Users\\84765/.cache\\torch\\hub\\ultralytics_yolov5_master\n"
     ]
    }
   ],
   "source": [
    "model = torch.hub.load('ultralytics/yolov5', 'custom', path='detector/bestFinal.pt',_verbose=False) "
   ]
  },
  {
   "cell_type": "code",
   "execution_count": 3,
   "metadata": {},
   "outputs": [],
   "source": [
    "pathIMG = \"imgTest/Hoang Van Tuan 1.jpg\"\n",
    "IDCard = cv2.imread(pathIMG)\n",
    "cv2.imshow(\"idcard\", IDCard)\n",
    "cv2.waitKey(0) \n",
    "#closing all open windows \n",
    "cv2.destroyAllWindows() "
   ]
  },
  {
   "cell_type": "code",
   "execution_count": 28,
   "metadata": {},
   "outputs": [],
   "source": [
    "\n",
    "listCorners=model(pathIMG).pandas().xyxy[0]\n",
    "listCorners = listCorners.values.tolist()\n",
    "listCorners, type = detectIDcard(listCorners)\n",
    "IDcardType = {\"newFront\", \"newBack\", \"oldFront\", \"oldBack\"}\n",
    "if type in IDcardType:\n",
    "    crop_IdCard = cropper(IDCard, listCorners)\n",
    "\n"
   ]
  }
 ],
 "metadata": {
  "kernelspec": {
   "display_name": "Python 3.8.13 ('final')",
   "language": "python",
   "name": "python3"
  },
  "language_info": {
   "codemirror_mode": {
    "name": "ipython",
    "version": 3
   },
   "file_extension": ".py",
   "mimetype": "text/x-python",
   "name": "python",
   "nbconvert_exporter": "python",
   "pygments_lexer": "ipython3",
   "version": "3.8.13"
  },
  "orig_nbformat": 4,
  "vscode": {
   "interpreter": {
    "hash": "0ff6ab0524d6ba9beac88bba2912e36c6523a2a50fcf0cd34f638f5ee0aed289"
   }
  }
 },
 "nbformat": 4,
 "nbformat_minor": 2
}
